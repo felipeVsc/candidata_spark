{
 "cells": [
  {
   "cell_type": "markdown",
   "metadata": {},
   "source": [
    "#### Informacoes\n",
    "\n",
    "Temos na célula abaixo tanto algumas informações sobre o tamanho geral.\n",
    "Como também o mesmo select que vai ser feito posteriormente mas antes dos processamento"
   ]
  },
  {
   "cell_type": "code",
   "execution_count": 15,
   "metadata": {},
   "outputs": [
    {
     "name": "stderr",
     "output_type": "stream",
     "text": [
      "[Stage 134:==========================================>              (6 + 1) / 8]\r"
     ]
    },
    {
     "name": "stdout",
     "output_type": "stream",
     "text": [
      "O tamanho de linhas é: 884010\n",
      "+--------------------+-------------+----------+---------------+-----------------------------+---------+\n",
      "|        NM_CANDIDATO|DT_NASCIMENTO|DT_ELEICAO|       NM_EMAIL|NR_TITULO_ELEITORAL_CANDIDATO|DS_GENERO|\n",
      "+--------------------+-------------+----------+---------------+-----------------------------+---------+\n",
      "|JOSÉ MARIA RICARD...|   01/05/1966|03/10/2004|         #NULO#|                 027990051325|MASCULINO|\n",
      "|JOSÉ ARNALDO DE A...|   24/06/1958|03/10/2004|         #NULO#|                 002685981317|MASCULINO|\n",
      "|LEONAM MENDES DA ...|   24/10/1974|03/10/2004|         #NULO#|                 024965891384|MASCULINO|\n",
      "|RUBENS CANDIDO DE...|   02/07/1962|03/10/2004|         #NULO#|                 035048940281|MASCULINO|\n",
      "|JOAQUIM CUSTODIO ...|   30/01/1945|03/10/2004|         #NULO#|                 013790440272|MASCULINO|\n",
      "|     WILSON LOURENÇO|   12/10/1950|03/10/2004|         #NULO#|                 050118770230|MASCULINO|\n",
      "|DIVINO JOSÉ DE ME...|   14/03/1968|03/10/2004|         #NULO#|                 141831030213|MASCULINO|\n",
      "|MARIA APOLONIA GO...|   09/02/1954|03/10/2004|             NT|                 067915450213| FEMININO|\n",
      "|RENE APARECIDO BE...|   08/12/1935|03/10/2004|         #NULO#|                 040759720256|MASCULINO|\n",
      "|MÁRCIO ANANIAS DO...|   29/08/1961|03/10/2004|         #NULO#|                 047071660248|MASCULINO|\n",
      "|CLAUDIANA APARECI...|   11/08/1982|03/10/2004|MGSS@UAI.COM.BR|                 140884720264| FEMININO|\n",
      "| PEDRO GAMA DA SILVA|   29/06/1956|03/10/2004|         #NULO#|                 003667182291|MASCULINO|\n",
      "|MARCOS SABINO DE ...|   20/01/1973|03/10/2004|         #NULO#|                 014986202259|MASCULINO|\n",
      "|JOSÉ FRANCISCO GO...|   07/07/1975|03/10/2004|         #NULO#|                 030268532224|MASCULINO|\n",
      "|SEBASTIÃO FREITAS...|   29/12/1973|03/10/2004|         #NULO#|                 001255402518|MASCULINO|\n",
      "|MARIA DAS DORES L...|   05/05/1955|03/10/2004|         #NULO#|                 002016202569| FEMININO|\n",
      "|   ARINALDO FERREIRA|   15/05/1973|03/10/2004|         #NULO#|                 022973921139|MASCULINO|\n",
      "|FRANCISCA SARAIVA...|   19/07/1954|03/10/2004|         #NULO#|                 007909270760| FEMININO|\n",
      "|WILLAN GREGÓRIO NETO|   05/06/1967|03/10/2004|         #NULO#|                 009582431066|MASCULINO|\n",
      "|HELTON ALVES DOS ...|   21/11/1943|03/10/2004|         #NULO#|                 002373161058|MASCULINO|\n",
      "+--------------------+-------------+----------+---------------+-----------------------------+---------+\n",
      "only showing top 20 rows\n",
      "\n"
     ]
    },
    {
     "name": "stderr",
     "output_type": "stream",
     "text": [
      "                                                                                \r"
     ]
    }
   ],
   "source": [
    "import pyspark \n",
    "from pyspark.sql import SparkSession\n",
    "from pyspark.sql.types import StructType,StructField, StringType, IntegerType \n",
    "from pyspark.sql.functions import col,udf\n",
    "from pyspark.sql.functions import lpad, to_date\n",
    "import pandas as pd\n",
    "\n",
    "\n",
    "spark = SparkSession.builder.master(\"local\").appName(\"hdfs_test\").getOrCreate()\n",
    "\n",
    "dados = spark.read.load(\"hdfs://localhost:9000/dadostse/\",format='csv',sep=';',inferSchema=\"true\",header=\"true\",encoding='latin1')\n",
    "print(f\"O tamanho de linhas é: {dados.count()}\")\n",
    "dados.select(\"NM_CANDIDATO\",\"DT_NASCIMENTO\",\"DT_ELEICAO\",\"NM_EMAIL\",\"NR_TITULO_ELEITORAL_CANDIDATO\",\"DS_GENERO\",).show(20)"
   ]
  },
  {
   "cell_type": "markdown",
   "metadata": {},
   "source": [
    "### Spark + HDFS\n",
    "\n",
    "Aqui foram feitos os processamentos com Spark. \n",
    "\n",
    "Os arquivos estavam salvos no HDFS.\n"
   ]
  },
  {
   "cell_type": "code",
   "execution_count": 43,
   "metadata": {},
   "outputs": [
    {
     "name": "stderr",
     "output_type": "stream",
     "text": [
      "                                                                                \r"
     ]
    },
    {
     "name": "stdout",
     "output_type": "stream",
     "text": [
      "O tamanho de linhas é: 442005\n"
     ]
    },
    {
     "name": "stderr",
     "output_type": "stream",
     "text": [
      "/tmp/ipykernel_6434/862508914.py:74: UserWarning: This pattern has match groups. To actually get the groups, use str.extract.\n",
      "[Stage 317:>                                                        (0 + 1) / 1]\r"
     ]
    },
    {
     "name": "stdout",
     "output_type": "stream",
     "text": [
      "+--------------------+-------------+----------+--------------------+-----------------------------+---------+-------+-----------+\n",
      "|        NM_CANDIDATO|DT_NASCIMENTO|DT_ELEICAO|            NM_EMAIL|NR_TITULO_ELEITORAL_CANDIDATO|DS_GENERO| CD_CBO|DS_GEN_NOVO|\n",
      "+--------------------+-------------+----------+--------------------+-----------------------------+---------+-------+-----------+\n",
      "|ASSIR RODRIGUES P...|   1955-08-07|2004-10-03|                null|                 023237020132|MASCULINO|1414-10|          M|\n",
      "|VILMA DE SANT`ANN...|   1968-02-05|2004-10-03|                null|                 147826820191| FEMININO|   null|          F|\n",
      "|       TARCIO FOGAÇA|   1961-09-23|2004-10-03|                null|                 049874290124|MASCULINO|   null|          M|\n",
      "|LUIS VANDERLEI CO...|   1967-05-04|2004-10-03|                null|                 028090260183|MASCULINO|   null|          M|\n",
      "|ODETE MOREIRA DA ...|   1949-12-29|2004-10-03|                null|                 062796890159| FEMININO|   null|          F|\n",
      "|MARCOS ALEXANDRE ...|   1971-05-27|2004-10-03|                null|                 191123640116|MASCULINO|   null|          M|\n",
      "|MARIA DE FÁTIMA C...|   1964-01-01|2004-10-03|                null|                 165445380167| FEMININO|   null|          F|\n",
      "|JOSE ROBERTO FERN...|   1952-08-02|2004-10-03|          NÃO POSSUI|                 189665250141|MASCULINO|1414-10|          M|\n",
      "|FRANCISCO ANTONIO...|   1960-06-20|2004-10-03|                null|                 037536510167|MASCULINO|   null|          M|\n",
      "| RAFAEL FARIA MORENO|   1980-08-24|2004-10-03|                null|                 255681520167|MASCULINO|   null|          M|\n",
      "|FERNANDO MESTRINE...|   1965-12-26|2004-10-03|                null|                 159344510141|MASCULINO|1414-10|          M|\n",
      "|KERLIN GENOVEVA B...|   1983-03-22|2004-10-03|                null|                 304370410108| FEMININO|2235-60|          F|\n",
      "|PRIMO JURANDIR SE...|   1946-10-17|2004-10-03|                null|                 162582830183|MASCULINO|   null|          M|\n",
      "|GUSTAVO SOARES FR...|   1980-11-14|2004-10-03|                null|                 290905640183|MASCULINO|   null|          M|\n",
      "|MARCOS ANTONIO DE...|   1950-02-23|2004-10-03|                null|                 124280900116|MASCULINO|   null|          M|\n",
      "|ELIZANGELA PACOLA...|   1977-09-16|2004-10-03|                null|                 238320200116| FEMININO|   null|          F|\n",
      "|MARCOS ANTONIO MA...|   1973-01-24|2004-10-03|                null|                 200657470108|MASCULINO|   null|          M|\n",
      "|ANTONIO CARLOS ME...|   1948-06-10|2004-10-03|                null|                 040186820124|MASCULINO|   null|          M|\n",
      "|    ROSA ADELIA CRUZ|   1958-11-15|2004-10-03|                null|                 022351760116| FEMININO|   null|          F|\n",
      "|CID AUGUSTO GRANA...|   1953-03-26|2004-10-03|SANBREZZAN@BOL.CO...|                 011678830167|MASCULINO|2122-15|          M|\n",
      "+--------------------+-------------+----------+--------------------+-----------------------------+---------+-------+-----------+\n",
      "only showing top 20 rows\n",
      "\n"
     ]
    },
    {
     "name": "stderr",
     "output_type": "stream",
     "text": [
      "                                                                                \r"
     ]
    }
   ],
   "source": [
    "import pyspark \n",
    "from pyspark.sql import SparkSession\n",
    "from pyspark.sql.types import StructType,StructField, StringType, IntegerType \n",
    "from pyspark.sql.functions import col,udf\n",
    "from pyspark.sql.functions import lpad, to_date\n",
    "import pandas as pd\n",
    "\n",
    "\n",
    "spark = SparkSession.builder.master(\"local\").appName(\"hdfs_test\").getOrCreate()\n",
    "\n",
    "dados = spark.read.load(\"hdfs://localhost:9000/dadostse/\",format='csv',sep=';',inferSchema=\"true\",header=\"true\",encoding='latin1')\n",
    "\n",
    "\n",
    "# Parte de Genero e Profissao \n",
    "genero = spark.read.load(\"hdfs://localhost:9000/utils/grupos.csv\",format='csv',sep=',',inferSchema=\"true\",header=\"true\",encoding='latin1').toPandas()\n",
    "prof = spark.read.load(\"hdfs://localhost:9000/utils/lista_canonicos.csv\",format='csv',sep=',',inferSchema=\"true\",header=\"true\",encoding='utf8').toPandas()\n",
    "\n",
    "# Valores nulos\n",
    "\n",
    "\n",
    "\"\"\"\n",
    "Vai substituir todos os valores dentro dessa lista por null\n",
    "Vai substituir todos os -3 por -1\n",
    "\"\"\"\n",
    "dados = dados.replace([\"#NE\",\"#NE#\",\"#NULO\",\"#NULO#\",\"NAO INFORMADO\"],\"null\")\n",
    "dados = dados.replace([-3],-1)\n",
    "    \n",
    "\n",
    "def gerarGenero(nome):\n",
    "    \"\"\"\n",
    "    Função que vai retornar o genero de acordo com o nome\n",
    "    Vai receber logo o primeiro nome, colocar um regex dado o contains\n",
    "    Vai procurar dentro do dataset de nomes o genero e retornar como uma string\n",
    "    \"\"\"\n",
    "    nome = f\"[|]{nome}?[|]\" # Regex para achar o nome exato por causa do contains\n",
    "    gen = genero.loc[genero['names'].str.contains(nome,regex=True)]\n",
    "    gender = gen['classification'].to_string()[-1]\n",
    "    if(gender==\"M\" or gender==\"F\"):\n",
    "        return gender\n",
    "\n",
    "    return \"null\" \n",
    "\n",
    "def generoFuncao(dados):\n",
    "    \"\"\"\n",
    "    Vai gerar a coluna DS_GEN_NOVO, com os generos de acordo com a base de dados\n",
    "    Vai utilizar da gerarGenero\n",
    "    \"\"\"\n",
    "    funcaoGenero = udf(lambda x: gerarGenero(x.split(\" \")[0]),StringType())\n",
    "    return dados.withColumn(\"DS_GEN_NOVO\",funcaoGenero(col(\"NM_CANDIDATO\")))\n",
    "\n",
    "\n",
    "\n",
    "def tituloEleitoral(dados):\n",
    "    \"\"\"\n",
    "    Funcao que vai completar os numeros de titulo de eleitor para 12 digitos.\n",
    "    \"\"\"\n",
    "\n",
    "    return dados.withColumn(\"NR_TITULO_ELEITORAL_CANDIDATO\",lpad(col(\"NR_TITULO_ELEITORAL_CANDIDATO\"),12,\"0\"))\n",
    "\n",
    "\n",
    "def arrumarDatas(dados):\n",
    "    \"\"\"\n",
    "    Funcao que vai padronizar todas as datas para yyyy-MM-dd\n",
    "    \"\"\"\n",
    "\n",
    "    return dados.withColumn(\"DT_NASCIMENTO\",to_date(\"DT_NASCIMENTO\",\"dd/MM/yyyy\")).withColumn(\"DT_ELEICAO\",to_date(\"DT_ELEICAO\",\"dd/MM/yyyy\")).withColumn(\"DT_GERACAO\",to_date(\"DT_GERACAO\",\"dd/MM/yyyy\")) #DT_NASCIMENTO\n",
    "\n",
    "\n",
    "def gerarOcupacao(nome):\n",
    "    \"\"\"\n",
    "    Vai retornar o codigo cbo se existir.\n",
    "    Faz o check igualmente do TSE para o CBO, ou seja, vai chegar se as strings sao ambas iguais\n",
    "    \"\"\"\n",
    "    codigo = prof.loc[prof['termo'].str.contains(nome.capitalize())]\n",
    "    codigoString = codigo['codigo'].to_string()\n",
    "    if(codigoString[-1].isnumeric()):\n",
    "        return codigoString[-7:]\n",
    "    else:\n",
    "        return \"null\"\n",
    "\n",
    "def ocupacaoFuncao(dados):\n",
    "    \"\"\"\n",
    "    Vai gerar a coluna CD_CBO com a funcao gerarOcupacao\n",
    "    \"\"\"\n",
    "\n",
    "    funcaoOcupacao = udf(lambda x: gerarOcupacao(x),StringType())\n",
    "    return dados.withColumn(\"CD_CBO\",funcaoOcupacao(col(\"DS_OCUPACAO\")))\n",
    "\n",
    "\n",
    "dados = arrumarDatas(dados)\n",
    "dados = tituloEleitoral(dados)\n",
    "dados = generoFuncao(dados)\n",
    "dados = ocupacaoFuncao(dados)\n",
    "print(f\"O tamanho de linhas é: {dados.count()}\")\n",
    "dados.select(\"NM_CANDIDATO\",\"DT_NASCIMENTO\",\"DT_ELEICAO\",\"NM_EMAIL\",\"NR_TITULO_ELEITORAL_CANDIDATO\",\"DS_GENERO\",\"CD_CBO\",\"DS_GEN_NOVO\").show(20)\n"
   ]
  },
  {
   "cell_type": "markdown",
   "metadata": {},
   "source": [
    "### Queries SQL pelo SparkSQL em cima de dados\n",
    "\n",
    "- Participação Feminina\n",
    "- Idade media dos candidatos"
   ]
  },
  {
   "cell_type": "code",
   "execution_count": 44,
   "metadata": {},
   "outputs": [
    {
     "name": "stderr",
     "output_type": "stream",
     "text": [
      "                                                                                \r"
     ]
    },
    {
     "name": "stdout",
     "output_type": "stream",
     "text": [
      "+------------------+\n",
      "|  idade media 1994|\n",
      "+------------------+\n",
      "|46.073717466526254|\n",
      "+------------------+\n",
      "\n"
     ]
    },
    {
     "name": "stderr",
     "output_type": "stream",
     "text": [
      "                                                                                \r"
     ]
    },
    {
     "name": "stdout",
     "output_type": "stream",
     "text": [
      "+-----------------+\n",
      "| idade media 1998|\n",
      "+-----------------+\n",
      "|45.71773124834349|\n",
      "+-----------------+\n",
      "\n"
     ]
    },
    {
     "name": "stderr",
     "output_type": "stream",
     "text": [
      "                                                                                \r"
     ]
    },
    {
     "name": "stdout",
     "output_type": "stream",
     "text": [
      "+-----------------+\n",
      "| idade media 2002|\n",
      "+-----------------+\n",
      "|45.46976641449003|\n",
      "+-----------------+\n",
      "\n"
     ]
    },
    {
     "name": "stderr",
     "output_type": "stream",
     "text": [
      "[Stage 327:======================================>                  (4 + 1) / 6]\r"
     ]
    },
    {
     "name": "stdout",
     "output_type": "stream",
     "text": [
      "+-----------------+\n",
      "| idade media 2004|\n",
      "+-----------------+\n",
      "|43.75791295439343|\n",
      "+-----------------+\n",
      "\n"
     ]
    },
    {
     "name": "stderr",
     "output_type": "stream",
     "text": [
      "                                                                                \r"
     ]
    }
   ],
   "source": [
    "# Idade Media dos Candidatos\n",
    "from pyspark.sql.functions import avg,lit\n",
    "\n",
    "\n",
    "dados.filter(dados[\"DT_ELEICAO\"] < lit('1995')).select(avg(\"NR_IDADE_DATA_POSSE\").alias(f\"idade media 1994\")).show()\n",
    "\n",
    "dados.filter((dados[\"DT_ELEICAO\"] > lit('1995')) & (dados[\"DT_ELEICAO\"] < lit('1999'))).select(avg(\"NR_IDADE_DATA_POSSE\").alias(f\"idade media 1998\")).show()\n",
    "\n",
    "dados.filter((dados[\"DT_ELEICAO\"] > lit('1999')) & (dados[\"DT_ELEICAO\"] < lit('2003'))).select(avg(\"NR_IDADE_DATA_POSSE\").alias(f\"idade media 2002\")).show()\n",
    "\n",
    "dados.filter(dados[\"DT_ELEICAO\"] > lit('2003')).select(avg(\"NR_IDADE_DATA_POSSE\").alias(f\"idade media 2004\")).show()\n",
    "\n",
    "\n"
   ]
  },
  {
   "cell_type": "code",
   "execution_count": 45,
   "metadata": {},
   "outputs": [
    {
     "name": "stderr",
     "output_type": "stream",
     "text": [
      "                                                                                \r"
     ]
    },
    {
     "name": "stdout",
     "output_type": "stream",
     "text": [
      "+-----------------+\n",
      "|Qnt mulheres 1994|\n",
      "+-----------------+\n",
      "|              452|\n",
      "+-----------------+\n",
      "\n"
     ]
    },
    {
     "name": "stderr",
     "output_type": "stream",
     "text": [
      "                                                                                \r"
     ]
    },
    {
     "name": "stdout",
     "output_type": "stream",
     "text": [
      "+-----------------+\n",
      "|Qnt mulheres 1998|\n",
      "+-----------------+\n",
      "|             1886|\n",
      "+-----------------+\n",
      "\n"
     ]
    },
    {
     "name": "stderr",
     "output_type": "stream",
     "text": [
      "                                                                                \r"
     ]
    },
    {
     "name": "stdout",
     "output_type": "stream",
     "text": [
      "+-----------------+\n",
      "|Qnt mulheres 2002|\n",
      "+-----------------+\n",
      "|             2602|\n",
      "+-----------------+\n",
      "\n"
     ]
    },
    {
     "name": "stderr",
     "output_type": "stream",
     "text": [
      "[Stage 339:===================>                                     (2 + 1) / 6]\r"
     ]
    },
    {
     "name": "stdout",
     "output_type": "stream",
     "text": [
      "+-----------------+\n",
      "|Qnt mulheres 2004|\n",
      "+-----------------+\n",
      "|            85397|\n",
      "+-----------------+\n",
      "\n"
     ]
    },
    {
     "name": "stderr",
     "output_type": "stream",
     "text": [
      "                                                                                \r"
     ]
    }
   ],
   "source": [
    "# Participação Feminina \n",
    "from pyspark.sql.functions import count, lit\n",
    "\n",
    "dados.filter((dados[\"DT_ELEICAO\"] < lit('1995')) & (dados[\"DS_GENERO\"]==\"FEMININO\")).select(count(\"DS_GENERO\").alias(f\"Qnt mulheres 1994\")).show()\n",
    "\n",
    "dados.filter((dados[\"DT_ELEICAO\"] > lit('1995')) & (dados[\"DT_ELEICAO\"] < lit('1999')) & (dados[\"DS_GENERO\"]==\"FEMININO\")).select(count(\"DS_GENERO\").alias(f\"Qnt mulheres 1998\")).show()\n",
    "\n",
    "dados.filter((dados[\"DT_ELEICAO\"] > lit('1999')) & (dados[\"DT_ELEICAO\"] < lit('2003')) & (dados[\"DS_GENERO\"]==\"FEMININO\")).select(count(\"DS_GENERO\").alias(f\"Qnt mulheres 2002\")).show()\n",
    "\n",
    "dados.filter((dados[\"DT_ELEICAO\"] > lit('2003')) & (dados[\"DS_GENERO\"]==\"FEMININO\")).select(count(\"DS_GENERO\").alias(f\"Qnt mulheres 2004\")).show()\n"
   ]
  },
  {
   "cell_type": "code",
   "execution_count": null,
   "metadata": {},
   "outputs": [],
   "source": []
  }
 ],
 "metadata": {
  "interpreter": {
   "hash": "916dbcbb3f70747c44a77c7bcd40155683ae19c65e1c03b4aa3499c5328201f1"
  },
  "kernelspec": {
   "display_name": "Python 3.8.10 64-bit",
   "language": "python",
   "name": "python3"
  },
  "language_info": {
   "codemirror_mode": {
    "name": "ipython",
    "version": 3
   },
   "file_extension": ".py",
   "mimetype": "text/x-python",
   "name": "python",
   "nbconvert_exporter": "python",
   "pygments_lexer": "ipython3",
   "version": "3.8.10"
  },
  "orig_nbformat": 4
 },
 "nbformat": 4,
 "nbformat_minor": 2
}
