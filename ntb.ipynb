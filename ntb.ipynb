{
 "cells": [
  {
   "cell_type": "markdown",
   "metadata": {},
   "source": [
    "#### Informacoes\n",
    "\n",
    "Temos na célula abaixo tanto algumas informações sobre o tamanho geral.\n",
    "Como também o mesmo select que vai ser feito posteriormente mas antes dos processamento"
   ]
  },
  {
   "cell_type": "code",
   "execution_count": 5,
   "metadata": {},
   "outputs": [
    {
     "name": "stderr",
     "output_type": "stream",
     "text": [
      "                                                                                \r"
     ]
    },
    {
     "name": "stdout",
     "output_type": "stream",
     "text": [
      "O tamanho de linhas é: 442005\n",
      "+--------------------+-------------+----------+--------------------+-----------------------------+---------+\n",
      "|        NM_CANDIDATO|DT_NASCIMENTO|DT_ELEICAO|            NM_EMAIL|NR_TITULO_ELEITORAL_CANDIDATO|DS_GENERO|\n",
      "+--------------------+-------------+----------+--------------------+-----------------------------+---------+\n",
      "|ASSIR RODRIGUES P...|   07/08/1955|03/10/2004|              #NULO#|                 023237020132|MASCULINO|\n",
      "|VILMA DE SANT`ANN...|   05/02/1968|03/10/2004|              #NULO#|                 147826820191| FEMININO|\n",
      "|       TARCIO FOGAÇA|   23/09/1961|03/10/2004|              #NULO#|                 049874290124|MASCULINO|\n",
      "|LUIS VANDERLEI CO...|   04/05/1967|03/10/2004|              #NULO#|                 028090260183|MASCULINO|\n",
      "|ODETE MOREIRA DA ...|   29/12/1949|03/10/2004|              #NULO#|                 062796890159| FEMININO|\n",
      "|MARCOS ALEXANDRE ...|   27/05/1971|03/10/2004|              #NULO#|                 191123640116|MASCULINO|\n",
      "|MARIA DE FÁTIMA C...|   01/01/1964|03/10/2004|              #NULO#|                 165445380167| FEMININO|\n",
      "|JOSE ROBERTO FERN...|   02/08/1952|03/10/2004|          NÃO POSSUI|                 189665250141|MASCULINO|\n",
      "|FRANCISCO ANTONIO...|   20/06/1960|03/10/2004|              #NULO#|                 037536510167|MASCULINO|\n",
      "| RAFAEL FARIA MORENO|   24/08/1980|03/10/2004|              #NULO#|                 255681520167|MASCULINO|\n",
      "|FERNANDO MESTRINE...|   26/12/1965|03/10/2004|              #NULO#|                 159344510141|MASCULINO|\n",
      "|KERLIN GENOVEVA B...|   22/03/1983|03/10/2004|              #NULO#|                 304370410108| FEMININO|\n",
      "|PRIMO JURANDIR SE...|   17/10/1946|03/10/2004|              #NULO#|                 162582830183|MASCULINO|\n",
      "|GUSTAVO SOARES FR...|   14/11/1980|03/10/2004|              #NULO#|                 290905640183|MASCULINO|\n",
      "|MARCOS ANTONIO DE...|   23/02/1950|03/10/2004|              #NULO#|                 124280900116|MASCULINO|\n",
      "|ELIZANGELA PACOLA...|   16/09/1977|03/10/2004|              #NULO#|                 238320200116| FEMININO|\n",
      "|MARCOS ANTONIO MA...|   24/01/1973|03/10/2004|              #NULO#|                 200657470108|MASCULINO|\n",
      "|ANTONIO CARLOS ME...|   10/06/1948|03/10/2004|              #NULO#|                 040186820124|MASCULINO|\n",
      "|    ROSA ADELIA CRUZ|   15/11/1958|03/10/2004|              #NULO#|                 022351760116| FEMININO|\n",
      "|CID AUGUSTO GRANA...|   26/03/1953|03/10/2004|SANBREZZAN@BOL.CO...|                 011678830167|MASCULINO|\n",
      "+--------------------+-------------+----------+--------------------+-----------------------------+---------+\n",
      "only showing top 20 rows\n",
      "\n"
     ]
    }
   ],
   "source": [
    "import pyspark \n",
    "from pyspark.sql import SparkSession\n",
    "from pyspark.sql.types import StructType,StructField, StringType, IntegerType \n",
    "from pyspark.sql.functions import col,udf\n",
    "from pyspark.sql.functions import lpad, to_date\n",
    "import pandas as pd\n",
    "\n",
    "\n",
    "spark = SparkSession.builder.master(\"local\").appName(\"hdfs_test\").getOrCreate()\n",
    "\n",
    "dados = spark.read.load(\"hdfs://localhost:9000/dadostse/\",format='csv',sep=';',inferSchema=\"true\",header=\"true\",encoding='latin1')\n",
    "print(f\"O tamanho de linhas é: {dados.count()}\")\n",
    "dados.select(\"NM_CANDIDATO\",\"DT_NASCIMENTO\",\"DT_ELEICAO\",\"NM_EMAIL\",\"NR_TITULO_ELEITORAL_CANDIDATO\",\"DS_GENERO\",).show(20)"
   ]
  },
  {
   "cell_type": "markdown",
   "metadata": {},
   "source": [
    "### Spark + HDFS\n",
    "\n",
    "Aqui foram feitos os processamentos com Spark. \n",
    "\n",
    "Os arquivos estavam salvos no HDFS.\n"
   ]
  },
  {
   "cell_type": "code",
   "execution_count": 6,
   "metadata": {},
   "outputs": [
    {
     "name": "stderr",
     "output_type": "stream",
     "text": [
      "                                                                                \r"
     ]
    },
    {
     "name": "stdout",
     "output_type": "stream",
     "text": [
      "O tamanho de linhas é: 442005\n"
     ]
    },
    {
     "name": "stderr",
     "output_type": "stream",
     "text": [
      "[Stage 48:===========================================>              (3 + 1) / 4]\r"
     ]
    },
    {
     "name": "stdout",
     "output_type": "stream",
     "text": [
      "+--------------------+-------------+----------+--------+-----------------------------+---------+------+-----------+\n",
      "|        NM_CANDIDATO|DT_NASCIMENTO|DT_ELEICAO|NM_EMAIL|NR_TITULO_ELEITORAL_CANDIDATO|DS_GENERO|CD_CBO|DS_GEN_NOVO|\n",
      "+--------------------+-------------+----------+--------+-----------------------------+---------+------+-----------+\n",
      "|ROBERVAL CONTE LO...|   1947-05-14|1994-10-03|    null|                 093728690175|MASCULINO|  null|          M|\n",
      "|JUVENAL DE LIMA T...|   1943-01-02|1994-10-03|    null|                 204184710116|MASCULINO|  null|          M|\n",
      "|JORGE PAULO NOGUEIRA|   1938-04-23|1994-10-03|    null|                 001918320108|MASCULINO|  null|          M|\n",
      "|WILLIANS RAFAEL D...|   1959-05-17|1994-10-03|    null|                 110909600175|MASCULINO|  null|          M|\n",
      "|MANOEL ABENACLO A...|   1942-07-20|1994-10-03|    null|                 140167510108|MASCULINO|  null|          M|\n",
      "|JOAO CARLOS CARREIRA|   1932-04-15|1994-10-03|    null|                 008976850167|MASCULINO|  null|          M|\n",
      "|ROBERTO GETULIO D...|   1930-11-06|1994-10-03|    null|                 001204060183|MASCULINO|  null|          M|\n",
      "|     RENATO LUCHIARI|   1943-06-13|1994-10-03|    null|                 038835050132|MASCULINO|  null|          M|\n",
      "|LUIZ ANTONIO DE M...|   1948-01-23|1994-10-03|    null|                 096616340124|MASCULINO|  null|          M|\n",
      "|PEDRO MONTEIRO NERIS|   1929-10-19|1994-10-03|    null|                 093073360141|MASCULINO|  null|          M|\n",
      "|MARIA INES SOARES...|   1955-05-09|1994-10-03|    null|                 061327700116| FEMININO|  null|          F|\n",
      "|     WATARU YAMAMOTO|   1938-07-12|1994-10-03|    null|                 034603380175|MASCULINO|  null|          M|\n",
      "|WALDYR APARECIDO ...|   1946-10-25|1994-10-03|    null|                 068492860132|MASCULINO|  null|          M|\n",
      "|   TERESA VALDY RETO|   1943-02-22|1994-10-03|    null|                 000623440108| FEMININO|  null|          F|\n",
      "|      TUTOMU SASSAKA|   1944-01-10|1994-10-03|    null|                 024197110141|MASCULINO|  null|          M|\n",
      "|EGBERTO MALTA MOR...|   1938-02-11|1994-10-03|    null|                 130827590124|MASCULINO|  null|          M|\n",
      "|    JOSE LUCIO ALVES|   1952-10-01|1994-10-03|    null|                 135389800116|MASCULINO|  null|          M|\n",
      "|JOSE BATISTA DE O...|   1950-06-02|1994-10-03|    null|                 153749360191|MASCULINO|  null|          M|\n",
      "|ANA PAULA GUIMARA...|   1969-09-03|1994-10-03|    null|                 180510690108| FEMININO|  null|          F|\n",
      "|WELLINGTON ROOSEV...|   1955-10-25|1994-10-03|    null|                 158446560191|MASCULINO|  null|          M|\n",
      "+--------------------+-------------+----------+--------+-----------------------------+---------+------+-----------+\n",
      "only showing top 20 rows\n",
      "\n"
     ]
    },
    {
     "name": "stderr",
     "output_type": "stream",
     "text": [
      "                                                                                \r"
     ]
    }
   ],
   "source": [
    "import pyspark \n",
    "from pyspark.sql import SparkSession\n",
    "from pyspark.sql.types import StructType,StructField, StringType, IntegerType \n",
    "from pyspark.sql.functions import col,udf\n",
    "from pyspark.sql.functions import lpad, to_date, lit\n",
    "import pandas as pd\n",
    "\n",
    "\n",
    "spark = SparkSession.builder.master(\"local\").appName(\"hdfs_test\").getOrCreate()\n",
    "\n",
    "dados = spark.read.load(\"hdfs://localhost:9000/dadostse/\",format='csv',sep=';',inferSchema=\"true\",header=\"true\",encoding='latin1')\n",
    "\n",
    "\n",
    "# Parte de Genero e Profissao \n",
    "genero = spark.read.load(\"hdfs://localhost:9000/utils/grupos.csv\",format='csv',sep=',',inferSchema=\"true\",header=\"true\",encoding='latin1').toPandas()\n",
    "prof = spark.read.load(\"hdfs://localhost:9000/utils/lista_canonicos.csv\",format='csv',sep=',',inferSchema=\"true\",header=\"true\",encoding='utf8').toPandas()\n",
    "\n",
    "# Valores nulos\n",
    "\n",
    "\n",
    "\"\"\"\n",
    "Vai substituir todos os valores dentro dessa lista por null\n",
    "Vai substituir todos os -3 por -1\n",
    "\"\"\"\n",
    "dados = dados.replace([\"#NE\",\"#NE#\",\"#NULO\",\"#NULO#\",\"NAO INFORMADO\"],\"null\")\n",
    "dados = dados.replace([-3],-1)\n",
    "    \n",
    "\n",
    "def gerarGenero(nome):\n",
    "    \"\"\"\n",
    "    Função que vai retornar o genero de acordo com o nome\n",
    "    Vai receber logo o primeiro nome, colocar um regex dado o contains\n",
    "    Vai procurar dentro do dataset de nomes o genero e retornar como uma string\n",
    "    \"\"\"\n",
    "    nome = f\"[|]{nome}?[|]\" # Regex para achar o nome exato por causa do contains\n",
    "    gen = genero.loc[genero['names'].str.contains(nome,regex=True)]\n",
    "    gender = gen['classification'].to_string()[-1]\n",
    "    if(gender==\"M\" or gender==\"F\"):\n",
    "        return gender\n",
    "\n",
    "    return \"null\" \n",
    "\n",
    "def generoFuncao(dados):\n",
    "    \"\"\"\n",
    "    Vai gerar a coluna DS_GEN_NOVO, com os generos de acordo com a base de dados\n",
    "    Vai utilizar da gerarGenero\n",
    "    \"\"\"\n",
    "    funcaoGenero = udf(lambda x: gerarGenero(x.split(\" \")[0]),StringType())\n",
    "    return dados.withColumn(\"DS_GEN_NOVO\",funcaoGenero(col(\"NM_CANDIDATO\")))\n",
    "\n",
    "\n",
    "\n",
    "def tituloEleitoral(dados):\n",
    "    \"\"\"\n",
    "    Funcao que vai completar os numeros de titulo de eleitor para 12 digitos.\n",
    "    \"\"\"\n",
    "\n",
    "    return dados.withColumn(\"NR_TITULO_ELEITORAL_CANDIDATO\",lpad(col(\"NR_TITULO_ELEITORAL_CANDIDATO\"),12,\"0\"))\n",
    "\n",
    "\n",
    "def arrumarDatas(dados):\n",
    "    \"\"\"\n",
    "    Funcao que vai padronizar todas as datas para yyyy-MM-dd\n",
    "    \"\"\"\n",
    "\n",
    "    return dados.withColumn(\"DT_NASCIMENTO\",to_date(\"DT_NASCIMENTO\",\"dd/MM/yyyy\")).withColumn(\"DT_ELEICAO\",to_date(\"DT_ELEICAO\",\"dd/MM/yyyy\")).withColumn(\"DT_GERACAO\",to_date(\"DT_GERACAO\",\"dd/MM/yyyy\")) #DT_NASCIMENTO\n",
    "\n",
    "\n",
    "def gerarOcupacao(nome):\n",
    "    \"\"\"\n",
    "    Vai retornar o codigo cbo se existir.\n",
    "    Faz o check igualmente do TSE para o CBO, ou seja, vai chegar se as strings sao ambas iguais\n",
    "    \"\"\"\n",
    "    codigo = prof.loc[prof['termo'].str.contains(nome.capitalize())]\n",
    "    codigoString = codigo['codigo'].to_string()\n",
    "    if(codigoString[-1].isnumeric()):\n",
    "        return codigoString[-7:]\n",
    "    else:\n",
    "        return \"null\"\n",
    "\n",
    "def ocupacaoFuncao(dados):\n",
    "    \"\"\"\n",
    "    Vai gerar a coluna CD_CBO com a funcao gerarOcupacao\n",
    "    \"\"\"\n",
    "\n",
    "    funcaoOcupacao = udf(lambda x: gerarOcupacao(x),StringType())\n",
    "    return dados.withColumn(\"CD_CBO\",funcaoOcupacao(col(\"DS_OCUPACAO\")))\n",
    "\n",
    "\n",
    "dados = arrumarDatas(dados)\n",
    "dados = tituloEleitoral(dados)\n",
    "dados = generoFuncao(dados)\n",
    "dados = ocupacaoFuncao(dados)\n",
    "print(f\"O tamanho de linhas é: {dados.count()}\")\n",
    "dados.filter(dados[\"DT_ELEICAO\"]<lit('1995')).select(\"NM_CANDIDATO\",\"DT_NASCIMENTO\",\"DT_ELEICAO\",\"NM_EMAIL\",\"NR_TITULO_ELEITORAL_CANDIDATO\",\"DS_GENERO\",\"CD_CBO\",\"DS_GEN_NOVO\").show(20)\n"
   ]
  },
  {
   "cell_type": "code",
   "execution_count": 7,
   "metadata": {},
   "outputs": [
    {
     "name": "stderr",
     "output_type": "stream",
     "text": [
      "/tmp/ipykernel_20820/1629221215.py:74: UserWarning: This pattern has match groups. To actually get the groups, use str.extract.\n",
      "[Stage 49:>                                                         (0 + 1) / 1]\r"
     ]
    },
    {
     "name": "stdout",
     "output_type": "stream",
     "text": [
      "+--------------------+-------------+----------+--------------------+-----------------------------+---------+-------+-----------+\n",
      "|        NM_CANDIDATO|DT_NASCIMENTO|DT_ELEICAO|            NM_EMAIL|NR_TITULO_ELEITORAL_CANDIDATO|DS_GENERO| CD_CBO|DS_GEN_NOVO|\n",
      "+--------------------+-------------+----------+--------------------+-----------------------------+---------+-------+-----------+\n",
      "|ASSIR RODRIGUES P...|   1955-08-07|2004-10-03|                null|                 023237020132|MASCULINO|1414-10|          M|\n",
      "|VILMA DE SANT`ANN...|   1968-02-05|2004-10-03|                null|                 147826820191| FEMININO|   null|          F|\n",
      "|       TARCIO FOGAÇA|   1961-09-23|2004-10-03|                null|                 049874290124|MASCULINO|   null|          M|\n",
      "|LUIS VANDERLEI CO...|   1967-05-04|2004-10-03|                null|                 028090260183|MASCULINO|   null|          M|\n",
      "|ODETE MOREIRA DA ...|   1949-12-29|2004-10-03|                null|                 062796890159| FEMININO|   null|          F|\n",
      "|MARCOS ALEXANDRE ...|   1971-05-27|2004-10-03|                null|                 191123640116|MASCULINO|   null|          M|\n",
      "|MARIA DE FÁTIMA C...|   1964-01-01|2004-10-03|                null|                 165445380167| FEMININO|   null|          F|\n",
      "|JOSE ROBERTO FERN...|   1952-08-02|2004-10-03|          NÃO POSSUI|                 189665250141|MASCULINO|1414-10|          M|\n",
      "|FRANCISCO ANTONIO...|   1960-06-20|2004-10-03|                null|                 037536510167|MASCULINO|   null|          M|\n",
      "| RAFAEL FARIA MORENO|   1980-08-24|2004-10-03|                null|                 255681520167|MASCULINO|   null|          M|\n",
      "|FERNANDO MESTRINE...|   1965-12-26|2004-10-03|                null|                 159344510141|MASCULINO|1414-10|          M|\n",
      "|KERLIN GENOVEVA B...|   1983-03-22|2004-10-03|                null|                 304370410108| FEMININO|2235-60|          F|\n",
      "|PRIMO JURANDIR SE...|   1946-10-17|2004-10-03|                null|                 162582830183|MASCULINO|   null|          M|\n",
      "|GUSTAVO SOARES FR...|   1980-11-14|2004-10-03|                null|                 290905640183|MASCULINO|   null|          M|\n",
      "|MARCOS ANTONIO DE...|   1950-02-23|2004-10-03|                null|                 124280900116|MASCULINO|   null|          M|\n",
      "|ELIZANGELA PACOLA...|   1977-09-16|2004-10-03|                null|                 238320200116| FEMININO|   null|          F|\n",
      "|MARCOS ANTONIO MA...|   1973-01-24|2004-10-03|                null|                 200657470108|MASCULINO|   null|          M|\n",
      "|ANTONIO CARLOS ME...|   1948-06-10|2004-10-03|                null|                 040186820124|MASCULINO|   null|          M|\n",
      "|    ROSA ADELIA CRUZ|   1958-11-15|2004-10-03|                null|                 022351760116| FEMININO|   null|          F|\n",
      "|CID AUGUSTO GRANA...|   1953-03-26|2004-10-03|SANBREZZAN@BOL.CO...|                 011678830167|MASCULINO|2122-15|          M|\n",
      "+--------------------+-------------+----------+--------------------+-----------------------------+---------+-------+-----------+\n",
      "only showing top 20 rows\n",
      "\n"
     ]
    },
    {
     "name": "stderr",
     "output_type": "stream",
     "text": [
      "                                                                                \r"
     ]
    }
   ],
   "source": [
    "dados.select(\"NM_CANDIDATO\",\"DT_NASCIMENTO\",\"DT_ELEICAO\",\"NM_EMAIL\",\"NR_TITULO_ELEITORAL_CANDIDATO\",\"DS_GENERO\",\"CD_CBO\",\"DS_GEN_NOVO\").show(20)"
   ]
  },
  {
   "cell_type": "markdown",
   "metadata": {},
   "source": [
    "### Queries SQL pelo SparkSQL em cima de dados\n",
    "\n",
    "- Participação Feminina\n",
    "- Idade media dos candidatos"
   ]
  },
  {
   "cell_type": "code",
   "execution_count": 44,
   "metadata": {},
   "outputs": [
    {
     "name": "stderr",
     "output_type": "stream",
     "text": [
      "                                                                                \r"
     ]
    },
    {
     "name": "stdout",
     "output_type": "stream",
     "text": [
      "+------------------+\n",
      "|  idade media 1994|\n",
      "+------------------+\n",
      "|46.073717466526254|\n",
      "+------------------+\n",
      "\n"
     ]
    },
    {
     "name": "stderr",
     "output_type": "stream",
     "text": [
      "                                                                                \r"
     ]
    },
    {
     "name": "stdout",
     "output_type": "stream",
     "text": [
      "+-----------------+\n",
      "| idade media 1998|\n",
      "+-----------------+\n",
      "|45.71773124834349|\n",
      "+-----------------+\n",
      "\n"
     ]
    },
    {
     "name": "stderr",
     "output_type": "stream",
     "text": [
      "                                                                                \r"
     ]
    },
    {
     "name": "stdout",
     "output_type": "stream",
     "text": [
      "+-----------------+\n",
      "| idade media 2002|\n",
      "+-----------------+\n",
      "|45.46976641449003|\n",
      "+-----------------+\n",
      "\n"
     ]
    },
    {
     "name": "stderr",
     "output_type": "stream",
     "text": [
      "[Stage 327:======================================>                  (4 + 1) / 6]\r"
     ]
    },
    {
     "name": "stdout",
     "output_type": "stream",
     "text": [
      "+-----------------+\n",
      "| idade media 2004|\n",
      "+-----------------+\n",
      "|43.75791295439343|\n",
      "+-----------------+\n",
      "\n"
     ]
    },
    {
     "name": "stderr",
     "output_type": "stream",
     "text": [
      "                                                                                \r"
     ]
    }
   ],
   "source": [
    "# Idade Media dos Candidatos\n",
    "from pyspark.sql.functions import avg,lit\n",
    "\n",
    "\n",
    "dados.filter(dados[\"DT_ELEICAO\"] < lit('1995')).select(avg(\"NR_IDADE_DATA_POSSE\").alias(f\"idade media 1994\")).show()\n",
    "\n",
    "dados.filter((dados[\"DT_ELEICAO\"] > lit('1995')) & (dados[\"DT_ELEICAO\"] < lit('1999'))).select(avg(\"NR_IDADE_DATA_POSSE\").alias(f\"idade media 1998\")).show()\n",
    "\n",
    "dados.filter((dados[\"DT_ELEICAO\"] > lit('1999')) & (dados[\"DT_ELEICAO\"] < lit('2003'))).select(avg(\"NR_IDADE_DATA_POSSE\").alias(f\"idade media 2002\")).show()\n",
    "\n",
    "dados.filter(dados[\"DT_ELEICAO\"] > lit('2003')).select(avg(\"NR_IDADE_DATA_POSSE\").alias(f\"idade media 2004\")).show()\n",
    "\n",
    "\n"
   ]
  },
  {
   "cell_type": "code",
   "execution_count": 45,
   "metadata": {},
   "outputs": [
    {
     "name": "stderr",
     "output_type": "stream",
     "text": [
      "                                                                                \r"
     ]
    },
    {
     "name": "stdout",
     "output_type": "stream",
     "text": [
      "+-----------------+\n",
      "|Qnt mulheres 1994|\n",
      "+-----------------+\n",
      "|              452|\n",
      "+-----------------+\n",
      "\n"
     ]
    },
    {
     "name": "stderr",
     "output_type": "stream",
     "text": [
      "                                                                                \r"
     ]
    },
    {
     "name": "stdout",
     "output_type": "stream",
     "text": [
      "+-----------------+\n",
      "|Qnt mulheres 1998|\n",
      "+-----------------+\n",
      "|             1886|\n",
      "+-----------------+\n",
      "\n"
     ]
    },
    {
     "name": "stderr",
     "output_type": "stream",
     "text": [
      "                                                                                \r"
     ]
    },
    {
     "name": "stdout",
     "output_type": "stream",
     "text": [
      "+-----------------+\n",
      "|Qnt mulheres 2002|\n",
      "+-----------------+\n",
      "|             2602|\n",
      "+-----------------+\n",
      "\n"
     ]
    },
    {
     "name": "stderr",
     "output_type": "stream",
     "text": [
      "[Stage 339:===================>                                     (2 + 1) / 6]\r"
     ]
    },
    {
     "name": "stdout",
     "output_type": "stream",
     "text": [
      "+-----------------+\n",
      "|Qnt mulheres 2004|\n",
      "+-----------------+\n",
      "|            85397|\n",
      "+-----------------+\n",
      "\n"
     ]
    },
    {
     "name": "stderr",
     "output_type": "stream",
     "text": [
      "                                                                                \r"
     ]
    }
   ],
   "source": [
    "# Participação Feminina \n",
    "from pyspark.sql.functions import count, lit\n",
    "\n",
    "dados.filter((dados[\"DT_ELEICAO\"] < lit('1995')) & (dados[\"DS_GENERO\"]==\"FEMININO\")).select(count(\"DS_GENERO\").alias(f\"Qnt mulheres 1994\")).show()\n",
    "\n",
    "dados.filter((dados[\"DT_ELEICAO\"] > lit('1995')) & (dados[\"DT_ELEICAO\"] < lit('1999')) & (dados[\"DS_GENERO\"]==\"FEMININO\")).select(count(\"DS_GENERO\").alias(f\"Qnt mulheres 1998\")).show()\n",
    "\n",
    "dados.filter((dados[\"DT_ELEICAO\"] > lit('1999')) & (dados[\"DT_ELEICAO\"] < lit('2003')) & (dados[\"DS_GENERO\"]==\"FEMININO\")).select(count(\"DS_GENERO\").alias(f\"Qnt mulheres 2002\")).show()\n",
    "\n",
    "dados.filter((dados[\"DT_ELEICAO\"] > lit('2003')) & (dados[\"DS_GENERO\"]==\"FEMININO\")).select(count(\"DS_GENERO\").alias(f\"Qnt mulheres 2004\")).show()\n"
   ]
  },
  {
   "cell_type": "code",
   "execution_count": null,
   "metadata": {},
   "outputs": [],
   "source": []
  }
 ],
 "metadata": {
  "interpreter": {
   "hash": "916dbcbb3f70747c44a77c7bcd40155683ae19c65e1c03b4aa3499c5328201f1"
  },
  "kernelspec": {
   "display_name": "Python 3.8.10 64-bit",
   "language": "python",
   "name": "python3"
  },
  "language_info": {
   "codemirror_mode": {
    "name": "ipython",
    "version": 3
   },
   "file_extension": ".py",
   "mimetype": "text/x-python",
   "name": "python",
   "nbconvert_exporter": "python",
   "pygments_lexer": "ipython3",
   "version": "3.8.10"
  },
  "orig_nbformat": 4
 },
 "nbformat": 4,
 "nbformat_minor": 2
}
